{
  "nbformat": 4,
  "nbformat_minor": 0,
  "metadata": {
    "colab": {
      "provenance": [],
      "gpuType": "T4",
      "include_colab_link": true
    },
    "kernelspec": {
      "name": "python3",
      "display_name": "Python 3"
    },
    "language_info": {
      "name": "python"
    },
    "accelerator": "GPU"
  },
  "cells": [
    {
      "cell_type": "markdown",
      "metadata": {
        "id": "view-in-github",
        "colab_type": "text"
      },
      "source": [
        "<a href=\"https://colab.research.google.com/github/sisco1113/LSTM-seq2seq-text-generation/blob/main/LSTM_seq2seq_text_generation_ipynb.ipynb\" target=\"_parent\"><img src=\"https://colab.research.google.com/assets/colab-badge.svg\" alt=\"Open In Colab\"/></a>"
      ]
    },
    {
      "cell_type": "code",
      "source": [
        "# Small LSTM Network to Generate Text for Alice in Wonderland\n",
        "import sys\n",
        "import numpy\n",
        "from keras.models import Sequential\n",
        "from keras.layers import Dense, Dropout, LSTM\n",
        "from keras.callbacks import ModelCheckpoint\n",
        "from keras.utils import to_categorical\n",
        "\n",
        "# load ascii text and covert to lowercase\n",
        "filename = \"wonderland.txt\"\n",
        "raw_text = open(filename).read()\n",
        "raw_text = raw_text.lower()\n",
        "\n",
        "# create mapping of unique chars to integers\n",
        "chars = sorted(list(set(raw_text)))\n",
        "char_to_int = dict((c, i) for i, c in enumerate(chars))\n",
        "\n",
        "#Create int_to_int that changes integer to char.\n",
        "int_to_char = {i: c for i, c in enumerate(chars)}\n",
        "\n",
        "# summarize the loaded data\n",
        "n_chars = len(raw_text)\n",
        "n_vocab = len(chars)\n",
        "print(\"Total Characters: \", n_chars)\n",
        "print(\"Total Vocab: \", n_vocab)\n",
        "\n",
        "# prepare the dataset of input to output pairs encoded as integers\n",
        "seq_length = 100\n",
        "dataX = []\n",
        "dataY = []\n",
        "for i in range(0, n_chars - seq_length, 1):\n",
        "            seq_in = raw_text[i:i + seq_length]\n",
        "            seq_out = raw_text[i + seq_length]\n",
        "            dataX.append([char_to_int[char] for char in seq_in])\n",
        "            dataY.append(char_to_int[seq_out])\n",
        "n_patterns = len(dataX)\n",
        "print(\"Total Patterns: \", n_patterns)\n",
        "\n",
        "# reshape X to be [samples, time steps, features]\n",
        "X = numpy.reshape(dataX, (n_patterns, seq_length, 1))\n",
        "\n",
        "# normalize\n",
        "X = X / float(n_vocab)\n",
        "\n",
        "# one hot encode the output variable\n",
        "y = to_categorical(dataY)\n",
        "\n",
        "# define the LSTM model\n",
        "model = Sequential()\n",
        "model.add(LSTM(256, input_shape=(X.shape[1], X.shape[2]), return_sequences=True))\n",
        "model.add(Dropout(0.2))\n",
        "model.add(LSTM(256))\n",
        "model.add(Dense(y.shape[1], activation='softmax'))\n",
        "\n",
        "model.compile(loss='categorical_crossentropy', optimizer='adam')\n",
        "\n",
        "# define the checkpoint\n",
        "filepath=\"weights-improvement-{epoch:02d}-{loss:.4f}.keras\"\n",
        "checkpoint = ModelCheckpoint(filepath, monitor='loss', verbose=1, save_best_only=True, mode='min')\n",
        "callbacks_list = [checkpoint]\n",
        "\n",
        "# fit the model\n",
        "model.fit(X, y, epochs=5, batch_size=128, callbacks=callbacks_list)\n",
        "\n",
        "# pick a random seed\n",
        "start = numpy.random.randint(0, len(dataX)-1)\n",
        "pattern = dataX[start]\n",
        "print(\"Seed:\")\n",
        "#print(\"\\\"\", ''.join([int_to_char[value] for value in pattern]), \"\\\"\")\n",
        "\n",
        "# generate characters\n",
        "for i in range(100):\n",
        "    x = numpy.reshape(pattern, (1, len(pattern), 1))\n",
        "    x = x / float(n_vocab)\n",
        "    prediction = model.predict(x, verbose=0)\n",
        "    index = numpy.argmax(prediction)\n",
        "    result = int_to_char[index]\n",
        "    seq_in = [int_to_char[value] for value in pattern]\n",
        "    sys.stdout.write(result)\n",
        "    pattern.append(index)\n",
        "    pattern = pattern[1:len(pattern)]\n",
        "\n",
        "print(\"\\nDone.\")"
      ],
      "metadata": {
        "id": "g5FJUVN3rxhE",
        "colab": {
          "base_uri": "https://localhost:8080/"
        },
        "outputId": "35102e09-d32b-4ee7-c247-72022c981fad"
      },
      "execution_count": 3,
      "outputs": [
        {
          "output_type": "stream",
          "name": "stdout",
          "text": [
            "Total Characters:  144343\n",
            "Total Vocab:  44\n",
            "Total Patterns:  144243\n",
            "Epoch 1/5\n",
            "1127/1127 [==============================] - ETA: 0s - loss: 2.8428\n",
            "Epoch 1: loss improved from inf to 2.84280, saving model to weights-improvement-01-2.8428.keras\n",
            "1127/1127 [==============================] - 38s 29ms/step - loss: 2.8428\n",
            "Epoch 2/5\n",
            "1127/1127 [==============================] - ETA: 0s - loss: 2.4858\n",
            "Epoch 2: loss improved from 2.84280 to 2.48577, saving model to weights-improvement-02-2.4858.keras\n",
            "1127/1127 [==============================] - 33s 30ms/step - loss: 2.4858\n",
            "Epoch 3/5\n",
            "1127/1127 [==============================] - ETA: 0s - loss: 2.2595\n",
            "Epoch 3: loss improved from 2.48577 to 2.25949, saving model to weights-improvement-03-2.2595.keras\n",
            "1127/1127 [==============================] - 33s 29ms/step - loss: 2.2595\n",
            "Epoch 4/5\n",
            "1127/1127 [==============================] - ETA: 0s - loss: 2.1105\n",
            "Epoch 4: loss improved from 2.25949 to 2.11053, saving model to weights-improvement-04-2.1105.keras\n",
            "1127/1127 [==============================] - 33s 29ms/step - loss: 2.1105\n",
            "Epoch 5/5\n",
            "1127/1127 [==============================] - ETA: 0s - loss: 2.0044\n",
            "Epoch 5: loss improved from 2.11053 to 2.00438, saving model to weights-improvement-05-2.0044.keras\n",
            "1127/1127 [==============================] - 33s 29ms/step - loss: 2.0044\n",
            "Seed:\n",
            "                                                                                            *    *  \n",
            "Done.\n"
          ]
        }
      ]
    }
  ]
}